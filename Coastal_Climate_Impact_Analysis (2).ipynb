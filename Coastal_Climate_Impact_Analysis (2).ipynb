{
  "cells": [
    {
      "cell_type": "code",
      "execution_count": null,
      "id": "1c83d7b2",
      "metadata": {
        "id": "1c83d7b2"
      },
      "outputs": [],
      "source": [
        "# 📌 Explanation:\n",
        "# This section performs a key function in coastal climate impact analysis.\n",
        "# Below is the original code with added comments for clarity.\n",
        "\n",
        "\n",
        "# **Step 1: Load Required Libraries**\n",
        "import pandas as pd\n",
        "import geopandas as gpd\n",
        "import numpy as np\n",
        "import matplotlib.pyplot as plt\n",
        "import seaborn as sns\n",
        "import ee\n",
        "\n",
        "# Authenticate manually\n",
        "ee.Authenticate()\n",
        "\n",
        "import folium\n",
        "import xgboost as xgb\n",
        "import tensorflow as tf\n",
        "from tensorflow.keras.models import Sequential\n",
        "from tensorflow.keras.layers import Dense, LSTM, Conv2D, Flatten, Dropout\n",
        "from sklearn.model_selection import train_test_split\n",
        "from sklearn.preprocessing import StandardScaler\n",
        "from sklearn.ensemble import RandomForestRegressor\n",
        "from sklearn.metrics import mean_absolute_error, mean_squared_error\n",
        "\n",
        "# **Step 2: Load the Coastal Climate Dataset**\n",
        "dataset_path = \"coastal_climate_big_dataset.csv\"\n",
        "df = pd.read_csv(dataset_path)\n",
        "\n",
        "# Display dataset overview\n",
        "df.head()\n",
        "\n",
        "\n",
        "# Adding Multiple Advanced ML Models\n",
        "from xgboost import XGBRegressor\n",
        "from sklearn.ensemble import GradientBoostingRegressor, StackingRegressor\n",
        "from tensorflow.keras.models import Sequential\n",
        "from tensorflow.keras.layers import Dense, LSTM, Conv2D, Flatten, Dropout\n",
        "\n",
        "# XGBoost Model\n",
        "xgb_model = XGBRegressor(n_estimators=500, learning_rate=0.05, max_depth=6, random_state=42)\n",
        "xgb_model.fit(X_train, y_train)\n",
        "y_pred_xgb = xgb_model.predict(X_test)\n",
        "\n",
        "# Gradient Boosting Model\n",
        "gb_model = GradientBoostingRegressor(n_estimators=300, learning_rate=0.1, max_depth=5, random_state=42)\n",
        "gb_model.fit(X_train, y_train)\n",
        "y_pred_gb = gb_model.predict(X_test)\n",
        "\n",
        "# Stacking Regressor for Better Predictions\n",
        "stacking_model = StackingRegressor(\n",
        "    estimators=[('rf', rf_model), ('xgb', xgb_model), ('gb', gb_model)],\n",
        "    final_estimator=GradientBoostingRegressor()\n",
        ")\n",
        "stacking_model.fit(X_train, y_train)\n",
        "y_pred_stacking = stacking_model.predict(X_test)\n",
        "\n",
        "# Deep Learning LSTM Model\n",
        "X_train_lstm = X_train.values.reshape((X_train.shape[0], X_train.shape[1], 1))\n",
        "X_test_lstm = X_test.values.reshape((X_test.shape[0], X_test.shape[1], 1))\n",
        "lstm_model = Sequential([\n",
        "    LSTM(64, return_sequences=True, input_shape=(X_train_lstm.shape[1], 1)),\n",
        "    LSTM(32),\n",
        "    Dense(16, activation='relu'),\n",
        "    Dropout(0.3),\n",
        "    Dense(1, activation='linear')\n",
        "])\n",
        "lstm_model.compile(optimizer='adam', loss='mse')\n",
        "lstm_model.fit(X_train_lstm, y_train, epochs=20, batch_size=64, validation_data=(X_test_lstm, y_test))\n"
      ]
    },
    {
      "cell_type": "code",
      "execution_count": null,
      "id": "c205932f",
      "metadata": {
        "id": "c205932f"
      },
      "outputs": [],
      "source": [
        "# 📌 Explanation:\n",
        "# This section performs a key function in coastal climate impact analysis.\n",
        "# Below is the original code with added comments for clarity.\n",
        "\n",
        "\n",
        "# **Step 3: Data Preprocessing**\n",
        "# Standardizing numeric features\n",
        "scaler = StandardScaler()\n",
        "df[['temperature', 'wind_speed', 'salinity', 'ocean_pH', 'SST']] = scaler.fit_transform(\n",
        "    df[['temperature', 'wind_speed', 'salinity', 'ocean_pH', 'SST']])\n",
        "\n",
        "# Define input features and target variable\n",
        "X = df[['temperature', 'wind_speed', 'salinity', 'ocean_pH']]\n",
        "y = df['SST']\n",
        "\n",
        "# Split into training and testing datasets\n",
        "X_train, X_test, y_train, y_test = train_test_split(X, y, test_size=0.3, random_state=42)\n"
      ]
    },
    {
      "cell_type": "code",
      "execution_count": null,
      "id": "e20b5c79",
      "metadata": {
        "id": "e20b5c79"
      },
      "outputs": [],
      "source": [
        "# 📌 Explanation:\n",
        "# This section performs a key function in coastal climate impact analysis.\n",
        "# Below is the original code with added comments for clarity.\n",
        "\n",
        "\n",
        "# **Step 4: Train Advanced Machine Learning Model (XGBoost)**\n",
        "xgb_model = xgb.XGBRegressor(n_estimators=500, learning_rate=0.05, max_depth=6, random_state=42)\n",
        "xgb_model.fit(X_train, y_train)\n",
        "\n",
        "# Predict on test data\n",
        "y_pred_xgb = xgb_model.predict(X_test)\n",
        "\n",
        "# Evaluate Model Performance\n",
        "mae_xgb = mean_absolute_error(y_test, y_pred_xgb)\n",
        "mse_xgb = mean_squared_error(y_test, y_pred_xgb)\n",
        "rmse_xgb = np.sqrt(mse_xgb)\n",
        "\n",
        "# Display Performance Metrics\n",
        "print(f\"XGBoost Model Performance: MAE = {mae_xgb}, MSE = {mse_xgb}, RMSE = {rmse_xgb}\")\n"
      ]
    },
    {
      "cell_type": "code",
      "execution_count": null,
      "id": "06ea5309",
      "metadata": {
        "id": "06ea5309"
      },
      "outputs": [],
      "source": [
        "# 📌 Explanation:\n",
        "# This section performs a key function in coastal climate impact analysis.\n",
        "# Below is the original code with added comments for clarity.\n",
        "\n",
        "\n",
        "# **Step 5: Train Deep Learning Model (LSTM) for Climate Prediction**\n",
        "# Reshape data for LSTM\n",
        "X_train_lstm = np.expand_dims(X_train.values, axis=2)\n",
        "X_test_lstm = np.expand_dims(X_test.values, axis=2)\n",
        "\n",
        "# Define LSTM Model\n",
        "lstm_model = Sequential([\n",
        "    LSTM(64, return_sequences=True, input_shape=(X_train_lstm.shape[1], 1)),\n",
        "    LSTM(32),\n",
        "    Dense(16, activation='relu'),\n",
        "    Dropout(0.3),\n",
        "    Dense(1, activation='linear')\n",
        "])\n",
        "\n",
        "# Compile and Train the Model\n",
        "lstm_model.compile(optimizer='adam', loss='mse')\n",
        "lstm_model.fit(X_train_lstm, y_train, epochs=20, batch_size=64, validation_data=(X_test_lstm, y_test))\n",
        "\n",
        "# Predict with LSTM Model\n",
        "y_pred_lstm = lstm_model.predict(X_test_lstm)\n"
      ]
    },
    {
      "cell_type": "code",
      "execution_count": null,
      "id": "a141b539",
      "metadata": {
        "id": "a141b539"
      },
      "outputs": [],
      "source": [
        "# 📌 Explanation:\n",
        "# This section performs a key function in coastal climate impact analysis.\n",
        "# Below is the original code with added comments for clarity.\n",
        "\n",
        "\n",
        "# **Step 6: Geospatial Heatmap of Coastal Vulnerability**\n",
        "# Convert DataFrame to GeoDataFrame\n",
        "gdf = gpd.GeoDataFrame(df, geometry=gpd.points_from_xy(df.longitude, df.latitude))\n",
        "\n",
        "# Plot Spatial Distribution of SST\n",
        "fig, ax = plt.subplots(figsize=(10, 10))\n",
        "gdf.plot(column='SST', cmap='coolwarm', legend=True, ax=ax)\n",
        "plt.title(\"Sea Surface Temperature Spatial Distribution\")\n",
        "plt.show()\n"
      ]
    },
    {
      "cell_type": "code",
      "execution_count": null,
      "id": "0rhwJSgPCJxE",
      "metadata": {
        "id": "0rhwJSgPCJxE"
      },
      "outputs": [],
      "source": [
        "# 📌 Explanation:\n",
        "# This section performs a key function in coastal climate impact analysis.\n",
        "# Below is the original code with added comments for clarity.\n",
        "\n",
        "!rm -r ~/.config/earthengine\n"
      ]
    },
    {
      "cell_type": "code",
      "execution_count": null,
      "id": "ODZyzJ6KCKo9",
      "metadata": {
        "id": "ODZyzJ6KCKo9"
      },
      "outputs": [],
      "source": [
        "# 📌 Explanation:\n",
        "# This section performs a key function in coastal climate impact analysis.\n",
        "# Below is the original code with added comments for clarity.\n",
        "\n",
        "import ee\n",
        "ee.Authenticate()\n"
      ]
    },
    {
      "cell_type": "code",
      "execution_count": null,
      "id": "Wm-r3c3FDzUH",
      "metadata": {
        "id": "Wm-r3c3FDzUH"
      },
      "outputs": [],
      "source": [
        "# 📌 Explanation:\n",
        "# This section performs a key function in coastal climate impact analysis.\n",
        "# Below is the original code with added comments for clarity.\n",
        "\n",
        "!pip install pystac_client planetary-computer\n"
      ]
    },
    {
      "cell_type": "code",
      "execution_count": null,
      "id": "-zxfKeDrDWws",
      "metadata": {
        "id": "-zxfKeDrDWws"
      },
      "outputs": [],
      "source": [
        "# 📌 Explanation:\n",
        "# This section performs a key function in coastal climate impact analysis.\n",
        "# Below is the original code with added comments for clarity.\n",
        "\n",
        "import pystac_client\n",
        "\n",
        "# Connect to Microsoft's Open Data Catalog\n",
        "catalog = pystac_client.Client.open(\"https://planetarycomputer.microsoft.com/api/stac/v1\")\n",
        "\n",
        "# Search for Sentinel-2 Data\n",
        "search = catalog.search(collections=[\"sentinel-2-l2a\"], bbox=[60, 5, 100, 30])\n",
        "items = list(search.items())\n",
        "print(items[0])\n"
      ]
    },
    {
      "cell_type": "code",
      "execution_count": null,
      "id": "arRMVk1lFeMC",
      "metadata": {
        "id": "arRMVk1lFeMC"
      },
      "outputs": [],
      "source": [
        "# 📌 Explanation:\n",
        "# This section performs a key function in coastal climate impact analysis.\n",
        "# Below is the original code with added comments for clarity.\n",
        "\n",
        "import pystac_client\n",
        "\n",
        "# Connect to Microsoft's Open Data Catalog\n",
        "catalog = pystac_client.Client.open(\"https://planetarycomputer.microsoft.com/api/stac/v1\")\n",
        "\n",
        "# ✅ Reduce the region size to speed up the request\n",
        "search = catalog.search(\n",
        "    collections=[\"sentinel-2-l2a\"],\n",
        "    bbox=[75, 10, 80, 15],  # Smaller bounding box (India region)\n",
        "    max_items=5  # Limit results for faster loading\n",
        ")\n",
        "\n",
        "items = list(search.items())\n",
        "\n",
        "# Print first image metadata\n",
        "print(items[1])\n"
      ]
    },
    {
      "cell_type": "code",
      "execution_count": null,
      "id": "dx7kDLu2FuUb",
      "metadata": {
        "id": "dx7kDLu2FuUb"
      },
      "outputs": [],
      "source": [
        "# 📌 Explanation:\n",
        "# This section performs a key function in coastal climate impact analysis.\n",
        "# Below is the original code with added comments for clarity.\n",
        "\n",
        "# Get the first image item\n",
        "first_item = items[1]\n",
        "\n",
        "# Print the available asset types (Bands, Metadata, etc.)\n",
        "print(first_item.assets)\n"
      ]
    },
    {
      "cell_type": "code",
      "execution_count": null,
      "id": "kwn-1UX1Fzkm",
      "metadata": {
        "id": "kwn-1UX1Fzkm"
      },
      "outputs": [],
      "source": [
        "# 📌 Explanation:\n",
        "# This section performs a key function in coastal climate impact analysis.\n",
        "# Below is the original code with added comments for clarity.\n",
        "\n",
        "# Extract URL for True-Color RGB composite (Bands 4, 3, 2)\n",
        "rgb_url = first_item.assets[\"visual\"].href\n",
        "print(\"RGB Image URL:\", rgb_url)\n"
      ]
    },
    {
      "cell_type": "code",
      "execution_count": null,
      "id": "_Ru78O7LF-lO",
      "metadata": {
        "id": "_Ru78O7LF-lO"
      },
      "outputs": [],
      "source": [
        "# 📌 Explanation:\n",
        "# This section performs a key function in coastal climate impact analysis.\n",
        "# Below is the original code with added comments for clarity.\n",
        "\n",
        "!pip install rasterio matplotlib"
      ]
    },
    {
      "cell_type": "code",
      "execution_count": null,
      "id": "6zGP-g90GN7r",
      "metadata": {
        "id": "6zGP-g90GN7r"
      },
      "outputs": [],
      "source": [
        "# 📌 Explanation:\n",
        "# This section performs a key function in coastal climate impact analysis.\n",
        "# Below is the original code with added comments for clarity.\n",
        "\n",
        "import requests\n",
        "from io import BytesIO\n",
        "import matplotlib.pyplot as plt\n",
        "import imageio.v3 as iio  # For reading images in various formats\n",
        "\n",
        "# Get the RGB Image URL from Microsoft Planetary Computer\n",
        "rgb_url = first_item.assets[\"visual\"].href  # Use \"visual\" for RGB or \"B4\" for Band 4\n",
        "\n",
        "# Download the image\n",
        "response = requests.get(rgb_url, headers={'User-Agent': 'Mozilla/5.0'}, stream=True)\n",
        "if response.status_code == 200:\n",
        "    img = iio.imread(BytesIO(response.content))  # Read image directly from URL\n",
        "    plt.imshow(img)\n",
        "    plt.axis(\"off\")\n",
        "    plt.title(\"Sentinel-2 True Color Image\")\n",
        "    plt.show()\n",
        "else:\n",
        "    print(\"Failed to download image. Status code:\", response.status_code)\n",
        "\n",
        "\n",
        "# Additional Advanced Geospatial Visualization\n",
        "import seaborn as sns\n",
        "import geopandas as gpd\n",
        "# Correlation Heatmap\n",
        "plt.figure(figsize=(10, 6))\n",
        "sns.heatmap(X_train.corr(), annot=True, cmap='coolwarm', linewidths=0.5)\n",
        "plt.title('Feature Correlation Heatmap')\n",
        "plt.show()\n",
        "# Geospatial Mapping with GeoPandas\n",
        "gdf = gpd.GeoDataFrame(df, geometry=gpd.points_from_xy(df.longitude, df.latitude))\n",
        "fig, ax = plt.subplots(figsize=(10, 10))\n",
        "gdf.plot(column='SST', cmap='coolwarm', legend=True, ax=ax)\n",
        "plt.title('Sea Surface Temperature Spatial Distribution')\n",
        "plt.show()\n"
      ]
    },
    {
      "cell_type": "code",
      "execution_count": null,
      "id": "XMuto_ylG1Zq",
      "metadata": {
        "id": "XMuto_ylG1Zq"
      },
      "outputs": [],
      "source": [
        "# 📌 Explanation:\n",
        "# This section performs a key function in coastal climate impact analysis.\n",
        "# Below is the original code with added comments for clarity.\n",
        "\n",
        "# Check which assets (bands) are available for the selected Sentinel-2 image\n",
        "print(first_item.assets.keys())\n"
      ]
    },
    {
      "cell_type": "code",
      "execution_count": null,
      "id": "IJUuYpFzG3I5",
      "metadata": {
        "id": "IJUuYpFzG3I5"
      },
      "outputs": [],
      "source": [
        "# 📌 Explanation:\n",
        "# This section performs a key function in coastal climate impact analysis.\n",
        "# Below is the original code with added comments for clarity.\n",
        "\n",
        "import PIL.Image as Image\n",
        "\n",
        "# Open image using PIL (an alternative approach)\n",
        "img = Image.open(requests.get(rgb_url, headers={'User-Agent': 'Mozilla/5.0'}, stream=True).raw)\n",
        "img.show()  # Opens the image in a viewer\n"
      ]
    }
  ],
  "metadata": {
    "colab": {
      "provenance": []
    }
  },
  "nbformat": 4,
  "nbformat_minor": 5
}